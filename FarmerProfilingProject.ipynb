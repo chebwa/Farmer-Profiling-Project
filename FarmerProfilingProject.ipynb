{
 "cells": [
  {
   "cell_type": "code",
   "execution_count": 65,
   "metadata": {},
   "outputs": [],
   "source": [
    "#import our libraries\n",
    "import plotly.express as px\n",
    "import numpy as np\n",
    "import pandas as pd\n",
    "import matplotlib.pyplot as plt\n",
    "import seaborn as sns\n",
    "from sklearn.preprocessing import RobustScaler\n",
    "from sklearn.cluster import KMeans\n",
    "from sklearn import metrics"
   ]
  },
  {
   "cell_type": "code",
   "execution_count": 66,
   "metadata": {},
   "outputs": [],
   "source": [
    "#read data and set index\n",
    "df=pd.read_excel(r\"C:\\Users\\Chiselas\\FarmerSegmentationClean1.xlsx\")\n",
    "df= df.set_index(df.columns[0])"
   ]
  },
  {
   "cell_type": "code",
   "execution_count": 67,
   "metadata": {},
   "outputs": [],
   "source": [
    "#create new dataframe for the selected 3 columns(attributes) and rename column names to generic columns \n",
    "def Load_data():\n",
    "    \n",
    "    data=df[df.columns[0:3]]\n",
    "    old_names=data.columns.values[0:3]\n",
    "    new_names=['col1', 'col2', 'col3']\n",
    "    data.rename(columns=dict(zip(old_names, new_names)), inplace=True)\n",
    "    return data"
   ]
  },
  {
   "cell_type": "code",
   "execution_count": 68,
   "metadata": {},
   "outputs": [
    {
     "name": "stderr",
     "output_type": "stream",
     "text": [
      "C:\\Users\\Chiselas\\anaconda3\\lib\\site-packages\\pandas\\core\\frame.py:4296: SettingWithCopyWarning: \n",
      "A value is trying to be set on a copy of a slice from a DataFrame\n",
      "\n",
      "See the caveats in the documentation: https://pandas.pydata.org/pandas-docs/stable/user_guide/indexing.html#returning-a-view-versus-a-copy\n",
      "  return super().rename(\n"
     ]
    },
    {
     "data": {
      "text/html": [
       "<div>\n",
       "<style scoped>\n",
       "    .dataframe tbody tr th:only-of-type {\n",
       "        vertical-align: middle;\n",
       "    }\n",
       "\n",
       "    .dataframe tbody tr th {\n",
       "        vertical-align: top;\n",
       "    }\n",
       "\n",
       "    .dataframe thead th {\n",
       "        text-align: right;\n",
       "    }\n",
       "</style>\n",
       "<table border=\"1\" class=\"dataframe\">\n",
       "  <thead>\n",
       "    <tr style=\"text-align: right;\">\n",
       "      <th></th>\n",
       "      <th>col1</th>\n",
       "      <th>col2</th>\n",
       "      <th>col3</th>\n",
       "    </tr>\n",
       "    <tr>\n",
       "      <th>HH_Id</th>\n",
       "      <th></th>\n",
       "      <th></th>\n",
       "      <th></th>\n",
       "    </tr>\n",
       "  </thead>\n",
       "  <tbody>\n",
       "    <tr>\n",
       "      <th>1406</th>\n",
       "      <td>0.666667</td>\n",
       "      <td>100.000000</td>\n",
       "      <td>33333.333333</td>\n",
       "    </tr>\n",
       "    <tr>\n",
       "      <th>306</th>\n",
       "      <td>0.166667</td>\n",
       "      <td>4.000000</td>\n",
       "      <td>333.333333</td>\n",
       "    </tr>\n",
       "    <tr>\n",
       "      <th>201</th>\n",
       "      <td>0.000000</td>\n",
       "      <td>2.000000</td>\n",
       "      <td>0.000000</td>\n",
       "    </tr>\n",
       "    <tr>\n",
       "      <th>303</th>\n",
       "      <td>0.692308</td>\n",
       "      <td>43.333333</td>\n",
       "      <td>15000.000000</td>\n",
       "    </tr>\n",
       "    <tr>\n",
       "      <th>203</th>\n",
       "      <td>0.571429</td>\n",
       "      <td>21.875000</td>\n",
       "      <td>0.000000</td>\n",
       "    </tr>\n",
       "  </tbody>\n",
       "</table>\n",
       "</div>"
      ],
      "text/plain": [
       "           col1        col2          col3\n",
       "HH_Id                                    \n",
       "1406   0.666667  100.000000  33333.333333\n",
       "306    0.166667    4.000000    333.333333\n",
       "201    0.000000    2.000000      0.000000\n",
       "303    0.692308   43.333333  15000.000000\n",
       "203    0.571429   21.875000      0.000000"
      ]
     },
     "execution_count": 68,
     "metadata": {},
     "output_type": "execute_result"
    }
   ],
   "source": [
    "data=Load_data()\n",
    "data.head()"
   ]
  },
  {
   "cell_type": "code",
   "execution_count": 69,
   "metadata": {},
   "outputs": [],
   "source": [
    "#Create statistics table to deal with outliers\n",
    "data_stats= data.describe()\n",
    "data_stats=data_stats.T\n",
    "max_val= data_stats['max']\n",
    "qrt_75= data_stats['75%']\n",
    "#create determinant column to determine which outlier elimination method needs to be applied\n",
    "data_stats['det']=qrt_75/max_val\n",
    "\n",
    "#Set the conditions and the elimination choices\n",
    "conditions= [(data_stats['det']<= 0.1),\n",
    "        (data_stats['det']>0.1) & (data_stats['det']<= 0.75),\n",
    "        (data_stats['det']>0.75)]\n",
    "choices=[(max_val-3*(data_stats['std'])),\n",
    "        (max_val-data_stats['std']),\n",
    "        (max_val)]\n",
    "\n",
    "#Apply the conditions and choices to new column called Cutoff\n",
    "data_stats['Cutoff']=np.select(conditions, choices)\n",
    "cutoff1= data_stats.loc['col1','Cutoff']\n",
    "cutoff2= data_stats.loc['col2','Cutoff']\n",
    "cutoff3= data_stats.loc['col3','Cutoff']"
   ]
  },
  {
   "cell_type": "code",
   "execution_count": 70,
   "metadata": {},
   "outputs": [
    {
     "name": "stdout",
     "output_type": "stream",
     "text": [
      "0.6579597740908252\n",
      "381.73459531534604\n",
      "54788.495927372176\n"
     ]
    }
   ],
   "source": [
    "print(cutoff1)\n",
    "print(cutoff2)\n",
    "print(cutoff3)"
   ]
  },
  {
   "cell_type": "code",
   "execution_count": 71,
   "metadata": {},
   "outputs": [
    {
     "data": {
      "text/html": [
       "<div>\n",
       "<style scoped>\n",
       "    .dataframe tbody tr th:only-of-type {\n",
       "        vertical-align: middle;\n",
       "    }\n",
       "\n",
       "    .dataframe tbody tr th {\n",
       "        vertical-align: top;\n",
       "    }\n",
       "\n",
       "    .dataframe thead th {\n",
       "        text-align: right;\n",
       "    }\n",
       "</style>\n",
       "<table border=\"1\" class=\"dataframe\">\n",
       "  <thead>\n",
       "    <tr style=\"text-align: right;\">\n",
       "      <th></th>\n",
       "      <th>count</th>\n",
       "      <th>mean</th>\n",
       "      <th>std</th>\n",
       "      <th>min</th>\n",
       "      <th>25%</th>\n",
       "      <th>50%</th>\n",
       "      <th>75%</th>\n",
       "      <th>max</th>\n",
       "      <th>det</th>\n",
       "      <th>Cutoff</th>\n",
       "    </tr>\n",
       "  </thead>\n",
       "  <tbody>\n",
       "    <tr>\n",
       "      <th>col1</th>\n",
       "      <td>376.0</td>\n",
       "      <td>0.432202</td>\n",
       "      <td>0.342040</td>\n",
       "      <td>0.0</td>\n",
       "      <td>0.000000</td>\n",
       "      <td>0.500000</td>\n",
       "      <td>0.714286</td>\n",
       "      <td>1.000000</td>\n",
       "      <td>0.714286</td>\n",
       "      <td>0.657960</td>\n",
       "    </tr>\n",
       "    <tr>\n",
       "      <th>col2</th>\n",
       "      <td>376.0</td>\n",
       "      <td>62.428463</td>\n",
       "      <td>68.265405</td>\n",
       "      <td>0.0</td>\n",
       "      <td>15.721154</td>\n",
       "      <td>37.697368</td>\n",
       "      <td>90.000000</td>\n",
       "      <td>450.000000</td>\n",
       "      <td>0.200000</td>\n",
       "      <td>381.734595</td>\n",
       "    </tr>\n",
       "    <tr>\n",
       "      <th>col3</th>\n",
       "      <td>376.0</td>\n",
       "      <td>11356.287552</td>\n",
       "      <td>16878.170739</td>\n",
       "      <td>0.0</td>\n",
       "      <td>0.000000</td>\n",
       "      <td>2803.571429</td>\n",
       "      <td>15340.909091</td>\n",
       "      <td>71666.666667</td>\n",
       "      <td>0.214059</td>\n",
       "      <td>54788.495927</td>\n",
       "    </tr>\n",
       "  </tbody>\n",
       "</table>\n",
       "</div>"
      ],
      "text/plain": [
       "      count          mean           std  min        25%          50%  \\\n",
       "col1  376.0      0.432202      0.342040  0.0   0.000000     0.500000   \n",
       "col2  376.0     62.428463     68.265405  0.0  15.721154    37.697368   \n",
       "col3  376.0  11356.287552  16878.170739  0.0   0.000000  2803.571429   \n",
       "\n",
       "               75%           max       det        Cutoff  \n",
       "col1      0.714286      1.000000  0.714286      0.657960  \n",
       "col2     90.000000    450.000000  0.200000    381.734595  \n",
       "col3  15340.909091  71666.666667  0.214059  54788.495927  "
      ]
     },
     "execution_count": 71,
     "metadata": {},
     "output_type": "execute_result"
    }
   ],
   "source": [
    "data_stats"
   ]
  },
  {
   "cell_type": "code",
   "execution_count": 72,
   "metadata": {},
   "outputs": [],
   "source": [
    "#Create two seperate dataframes based on the outlier cutoffs\n",
    "outlier=data[(data['col1']>= cutoff1) | (data['col2']>= cutoff2) | (data['col3']>= cutoff3)]\n",
    "  "
   ]
  },
  {
   "cell_type": "code",
   "execution_count": 73,
   "metadata": {},
   "outputs": [],
   "source": [
    "data_filtered=data[(data['col1']< cutoff1) & (data['col2']< cutoff2) & (data['col3']< cutoff3)]"
   ]
  },
  {
   "cell_type": "code",
   "execution_count": 74,
   "metadata": {},
   "outputs": [
    {
     "data": {
      "text/html": [
       "<div>\n",
       "<style scoped>\n",
       "    .dataframe tbody tr th:only-of-type {\n",
       "        vertical-align: middle;\n",
       "    }\n",
       "\n",
       "    .dataframe tbody tr th {\n",
       "        vertical-align: top;\n",
       "    }\n",
       "\n",
       "    .dataframe thead th {\n",
       "        text-align: right;\n",
       "    }\n",
       "</style>\n",
       "<table border=\"1\" class=\"dataframe\">\n",
       "  <thead>\n",
       "    <tr style=\"text-align: right;\">\n",
       "      <th></th>\n",
       "      <th>col1</th>\n",
       "      <th>col2</th>\n",
       "      <th>col3</th>\n",
       "    </tr>\n",
       "    <tr>\n",
       "      <th>HH_Id</th>\n",
       "      <th></th>\n",
       "      <th></th>\n",
       "      <th></th>\n",
       "    </tr>\n",
       "  </thead>\n",
       "  <tbody>\n",
       "    <tr>\n",
       "      <th>306</th>\n",
       "      <td>0.166667</td>\n",
       "      <td>4.000000</td>\n",
       "      <td>333.333333</td>\n",
       "    </tr>\n",
       "    <tr>\n",
       "      <th>201</th>\n",
       "      <td>0.000000</td>\n",
       "      <td>2.000000</td>\n",
       "      <td>0.000000</td>\n",
       "    </tr>\n",
       "    <tr>\n",
       "      <th>203</th>\n",
       "      <td>0.571429</td>\n",
       "      <td>21.875000</td>\n",
       "      <td>0.000000</td>\n",
       "    </tr>\n",
       "    <tr>\n",
       "      <th>2601</th>\n",
       "      <td>0.000000</td>\n",
       "      <td>15.833333</td>\n",
       "      <td>0.000000</td>\n",
       "    </tr>\n",
       "    <tr>\n",
       "      <th>2605</th>\n",
       "      <td>0.186567</td>\n",
       "      <td>76.571429</td>\n",
       "      <td>0.000000</td>\n",
       "    </tr>\n",
       "    <tr>\n",
       "      <th>...</th>\n",
       "      <td>...</td>\n",
       "      <td>...</td>\n",
       "      <td>...</td>\n",
       "    </tr>\n",
       "    <tr>\n",
       "      <th>9405</th>\n",
       "      <td>0.000000</td>\n",
       "      <td>0.000000</td>\n",
       "      <td>0.000000</td>\n",
       "    </tr>\n",
       "    <tr>\n",
       "      <th>8806</th>\n",
       "      <td>0.142857</td>\n",
       "      <td>23.333333</td>\n",
       "      <td>1666.666667</td>\n",
       "    </tr>\n",
       "    <tr>\n",
       "      <th>6301</th>\n",
       "      <td>0.000000</td>\n",
       "      <td>200.000000</td>\n",
       "      <td>0.000000</td>\n",
       "    </tr>\n",
       "    <tr>\n",
       "      <th>6506</th>\n",
       "      <td>0.500000</td>\n",
       "      <td>40.000000</td>\n",
       "      <td>10000.000000</td>\n",
       "    </tr>\n",
       "    <tr>\n",
       "      <th>6103</th>\n",
       "      <td>0.517241</td>\n",
       "      <td>105.454545</td>\n",
       "      <td>16363.636364</td>\n",
       "    </tr>\n",
       "  </tbody>\n",
       "</table>\n",
       "<p>244 rows × 3 columns</p>\n",
       "</div>"
      ],
      "text/plain": [
       "           col1        col2          col3\n",
       "HH_Id                                    \n",
       "306    0.166667    4.000000    333.333333\n",
       "201    0.000000    2.000000      0.000000\n",
       "203    0.571429   21.875000      0.000000\n",
       "2601   0.000000   15.833333      0.000000\n",
       "2605   0.186567   76.571429      0.000000\n",
       "...         ...         ...           ...\n",
       "9405   0.000000    0.000000      0.000000\n",
       "8806   0.142857   23.333333   1666.666667\n",
       "6301   0.000000  200.000000      0.000000\n",
       "6506   0.500000   40.000000  10000.000000\n",
       "6103   0.517241  105.454545  16363.636364\n",
       "\n",
       "[244 rows x 3 columns]"
      ]
     },
     "execution_count": 74,
     "metadata": {},
     "output_type": "execute_result"
    }
   ],
   "source": [
    "data_filtered"
   ]
  },
  {
   "cell_type": "code",
   "execution_count": 75,
   "metadata": {},
   "outputs": [],
   "source": [
    "#Scale both datasets using Robust Scaler which will further handle any outliers\n",
    "robust_scaler=RobustScaler()\n",
    "scaled_data= robust_scaler.fit_transform(data_filtered)\n",
    "scaled_outlier= robust_scaler.transform(outlier)"
   ]
  },
  {
   "cell_type": "code",
   "execution_count": 76,
   "metadata": {},
   "outputs": [
    {
     "name": "stderr",
     "output_type": "stream",
     "text": [
      "<ipython-input-76-52c702126234>:7: SettingWithCopyWarning: \n",
      "A value is trying to be set on a copy of a slice from a DataFrame.\n",
      "Try using .loc[row_indexer,col_indexer] = value instead\n",
      "\n",
      "See the caveats in the documentation: https://pandas.pydata.org/pandas-docs/stable/user_guide/indexing.html#returning-a-view-versus-a-copy\n",
      "  data_filtered['Cluster']=filtered_clusters\n",
      "<ipython-input-76-52c702126234>:8: SettingWithCopyWarning: \n",
      "A value is trying to be set on a copy of a slice from a DataFrame.\n",
      "Try using .loc[row_indexer,col_indexer] = value instead\n",
      "\n",
      "See the caveats in the documentation: https://pandas.pydata.org/pandas-docs/stable/user_guide/indexing.html#returning-a-view-versus-a-copy\n",
      "  outlier['Cluster']=outlier_clusters\n"
     ]
    }
   ],
   "source": [
    "#Use KMeans to create clusters\n",
    "KMean_clust = KMeans(n_clusters= 3, init= 'k-means++', max_iter= 1000,  random_state=0)\n",
    "KMean_clust.fit(scaled_data)\n",
    "\n",
    "#Find the clusters for the observation given in the dataset\n",
    "filtered_clusters = KMean_clust.fit_predict(scaled_data)\n",
    "outlier_clusters = KMean_clust.predict(scaled_outlier)\n",
    "data_filtered['Cluster']=filtered_clusters\n",
    "outlier['Cluster']=outlier_clusters\n",
    "combined_data=data_filtered.append(outlier)"
   ]
  },
  {
   "cell_type": "code",
   "execution_count": 77,
   "metadata": {},
   "outputs": [
    {
     "data": {
      "text/html": [
       "<div>\n",
       "<style scoped>\n",
       "    .dataframe tbody tr th:only-of-type {\n",
       "        vertical-align: middle;\n",
       "    }\n",
       "\n",
       "    .dataframe tbody tr th {\n",
       "        vertical-align: top;\n",
       "    }\n",
       "\n",
       "    .dataframe thead th {\n",
       "        text-align: right;\n",
       "    }\n",
       "</style>\n",
       "<table border=\"1\" class=\"dataframe\">\n",
       "  <thead>\n",
       "    <tr style=\"text-align: right;\">\n",
       "      <th></th>\n",
       "      <th>col1</th>\n",
       "      <th>col2</th>\n",
       "      <th>col3</th>\n",
       "      <th>Cluster</th>\n",
       "    </tr>\n",
       "    <tr>\n",
       "      <th>HH_Id</th>\n",
       "      <th></th>\n",
       "      <th></th>\n",
       "      <th></th>\n",
       "      <th></th>\n",
       "    </tr>\n",
       "  </thead>\n",
       "  <tbody>\n",
       "    <tr>\n",
       "      <th>306</th>\n",
       "      <td>0.166667</td>\n",
       "      <td>4.000000</td>\n",
       "      <td>333.333333</td>\n",
       "      <td>0</td>\n",
       "    </tr>\n",
       "    <tr>\n",
       "      <th>201</th>\n",
       "      <td>0.000000</td>\n",
       "      <td>2.000000</td>\n",
       "      <td>0.000000</td>\n",
       "      <td>0</td>\n",
       "    </tr>\n",
       "    <tr>\n",
       "      <th>203</th>\n",
       "      <td>0.571429</td>\n",
       "      <td>21.875000</td>\n",
       "      <td>0.000000</td>\n",
       "      <td>0</td>\n",
       "    </tr>\n",
       "    <tr>\n",
       "      <th>2601</th>\n",
       "      <td>0.000000</td>\n",
       "      <td>15.833333</td>\n",
       "      <td>0.000000</td>\n",
       "      <td>0</td>\n",
       "    </tr>\n",
       "    <tr>\n",
       "      <th>2605</th>\n",
       "      <td>0.186567</td>\n",
       "      <td>76.571429</td>\n",
       "      <td>0.000000</td>\n",
       "      <td>0</td>\n",
       "    </tr>\n",
       "    <tr>\n",
       "      <th>...</th>\n",
       "      <td>...</td>\n",
       "      <td>...</td>\n",
       "      <td>...</td>\n",
       "      <td>...</td>\n",
       "    </tr>\n",
       "    <tr>\n",
       "      <th>9405</th>\n",
       "      <td>0.000000</td>\n",
       "      <td>0.000000</td>\n",
       "      <td>0.000000</td>\n",
       "      <td>0</td>\n",
       "    </tr>\n",
       "    <tr>\n",
       "      <th>8806</th>\n",
       "      <td>0.142857</td>\n",
       "      <td>23.333333</td>\n",
       "      <td>1666.666667</td>\n",
       "      <td>0</td>\n",
       "    </tr>\n",
       "    <tr>\n",
       "      <th>6301</th>\n",
       "      <td>0.000000</td>\n",
       "      <td>200.000000</td>\n",
       "      <td>0.000000</td>\n",
       "      <td>2</td>\n",
       "    </tr>\n",
       "    <tr>\n",
       "      <th>6506</th>\n",
       "      <td>0.500000</td>\n",
       "      <td>40.000000</td>\n",
       "      <td>10000.000000</td>\n",
       "      <td>0</td>\n",
       "    </tr>\n",
       "    <tr>\n",
       "      <th>6103</th>\n",
       "      <td>0.517241</td>\n",
       "      <td>105.454545</td>\n",
       "      <td>16363.636364</td>\n",
       "      <td>1</td>\n",
       "    </tr>\n",
       "  </tbody>\n",
       "</table>\n",
       "<p>244 rows × 4 columns</p>\n",
       "</div>"
      ],
      "text/plain": [
       "           col1        col2          col3  Cluster\n",
       "HH_Id                                             \n",
       "306    0.166667    4.000000    333.333333        0\n",
       "201    0.000000    2.000000      0.000000        0\n",
       "203    0.571429   21.875000      0.000000        0\n",
       "2601   0.000000   15.833333      0.000000        0\n",
       "2605   0.186567   76.571429      0.000000        0\n",
       "...         ...         ...           ...      ...\n",
       "9405   0.000000    0.000000      0.000000        0\n",
       "8806   0.142857   23.333333   1666.666667        0\n",
       "6301   0.000000  200.000000      0.000000        2\n",
       "6506   0.500000   40.000000  10000.000000        0\n",
       "6103   0.517241  105.454545  16363.636364        1\n",
       "\n",
       "[244 rows x 4 columns]"
      ]
     },
     "execution_count": 77,
     "metadata": {},
     "output_type": "execute_result"
    }
   ],
   "source": [
    "data_filtered"
   ]
  },
  {
   "cell_type": "code",
   "execution_count": 78,
   "metadata": {},
   "outputs": [],
   "source": [
    "model= KMean_clust.fit(scaled_data)"
   ]
  },
  {
   "cell_type": "code",
   "execution_count": null,
   "metadata": {},
   "outputs": [],
   "source": [
    "#save model for web app\n",
    "import pickle\n",
    "pickle.dump(model, open(\"kmeans_model.pkl\", \"wb\"))"
   ]
  },
  {
   "cell_type": "code",
   "execution_count": 82,
   "metadata": {},
   "outputs": [],
   "source": [
    "#Copy Cluster column to df\n",
    "df['Cluster']=combined_data['Cluster']"
   ]
  },
  {
   "cell_type": "code",
   "execution_count": 83,
   "metadata": {},
   "outputs": [
    {
     "name": "stderr",
     "output_type": "stream",
     "text": [
      "<ipython-input-83-9f00cb5c9242>:1: FutureWarning: Indexing with multiple keys (implicitly converted to a tuple of keys) will be deprecated, use a list instead.\n",
      "  Scoring_table=combined_data.groupby('Cluster')['col1', 'col2', 'col3'].mean()\n"
     ]
    }
   ],
   "source": [
    "#Create Scoring table to rank the clusters according to performance on each attribute.\n",
    "Scoring_table=combined_data.groupby('Cluster')['col1', 'col2', 'col3'].mean()\n",
    "Scoring_table=Scoring_table.rank(axis=0, method='max')\n",
    "Scoring_table['Score']=Scoring_table['col1'] + Scoring_table['col2'] + Scoring_table['col3']\n",
    "\n",
    "#Assign Profile tiers to each Cluster\n",
    "def Profile(val):\n",
    "    if val == Scoring_table['Score'].max():\n",
    "        \n",
    "        return 'Top Tier'\n",
    "    elif val == Scoring_table['Score'].min():\n",
    "        return 'Lower Tier'\n",
    "    else:\n",
    "        return 'Middle Tier'\n",
    "    \n"
   ]
  },
  {
   "cell_type": "code",
   "execution_count": 85,
   "metadata": {},
   "outputs": [
    {
     "data": {
      "text/html": [
       "<div>\n",
       "<style scoped>\n",
       "    .dataframe tbody tr th:only-of-type {\n",
       "        vertical-align: middle;\n",
       "    }\n",
       "\n",
       "    .dataframe tbody tr th {\n",
       "        vertical-align: top;\n",
       "    }\n",
       "\n",
       "    .dataframe thead th {\n",
       "        text-align: right;\n",
       "    }\n",
       "</style>\n",
       "<table border=\"1\" class=\"dataframe\">\n",
       "  <thead>\n",
       "    <tr style=\"text-align: right;\">\n",
       "      <th></th>\n",
       "      <th>col1</th>\n",
       "      <th>col2</th>\n",
       "      <th>col3</th>\n",
       "      <th>Score</th>\n",
       "      <th>Profile</th>\n",
       "    </tr>\n",
       "    <tr>\n",
       "      <th>Cluster</th>\n",
       "      <th></th>\n",
       "      <th></th>\n",
       "      <th></th>\n",
       "      <th></th>\n",
       "      <th></th>\n",
       "    </tr>\n",
       "  </thead>\n",
       "  <tbody>\n",
       "    <tr>\n",
       "      <th>0</th>\n",
       "      <td>1.0</td>\n",
       "      <td>1.0</td>\n",
       "      <td>2.0</td>\n",
       "      <td>4.0</td>\n",
       "      <td>Lower Tier</td>\n",
       "    </tr>\n",
       "    <tr>\n",
       "      <th>1</th>\n",
       "      <td>3.0</td>\n",
       "      <td>2.0</td>\n",
       "      <td>3.0</td>\n",
       "      <td>8.0</td>\n",
       "      <td>Top Tier</td>\n",
       "    </tr>\n",
       "    <tr>\n",
       "      <th>2</th>\n",
       "      <td>2.0</td>\n",
       "      <td>3.0</td>\n",
       "      <td>1.0</td>\n",
       "      <td>6.0</td>\n",
       "      <td>Middle Tier</td>\n",
       "    </tr>\n",
       "  </tbody>\n",
       "</table>\n",
       "</div>"
      ],
      "text/plain": [
       "         col1  col2  col3  Score      Profile\n",
       "Cluster                                      \n",
       "0         1.0   1.0   2.0    4.0   Lower Tier\n",
       "1         3.0   2.0   3.0    8.0     Top Tier\n",
       "2         2.0   3.0   1.0    6.0  Middle Tier"
      ]
     },
     "execution_count": 85,
     "metadata": {},
     "output_type": "execute_result"
    }
   ],
   "source": [
    "Scoring_table['Profile']= Scoring_table['Score'].apply(Profile)\n",
    "Scoring_table"
   ]
  },
  {
   "cell_type": "code",
   "execution_count": 86,
   "metadata": {},
   "outputs": [
    {
     "data": {
      "text/plain": [
       "{0: 'Lower Tier', 1: 'Top Tier', 2: 'Middle Tier'}"
      ]
     },
     "execution_count": 86,
     "metadata": {},
     "output_type": "execute_result"
    }
   ],
   "source": [
    "#Create profile dictionary to apply to df\n",
    "profile_dict= Scoring_table.to_dict()['Profile']\n",
    "profile_dict"
   ]
  },
  {
   "cell_type": "code",
   "execution_count": 87,
   "metadata": {},
   "outputs": [],
   "source": [
    "def set_value(row_number, assigned_value):\n",
    "    return assigned_value[row_number]\n",
    "\n",
    "df['Profile']=df['Cluster'].apply(set_value, args=(profile_dict, ))"
   ]
  },
  {
   "cell_type": "code",
   "execution_count": 88,
   "metadata": {},
   "outputs": [
    {
     "data": {
      "text/html": [
       "<div>\n",
       "<style scoped>\n",
       "    .dataframe tbody tr th:only-of-type {\n",
       "        vertical-align: middle;\n",
       "    }\n",
       "\n",
       "    .dataframe tbody tr th {\n",
       "        vertical-align: top;\n",
       "    }\n",
       "\n",
       "    .dataframe thead th {\n",
       "        text-align: right;\n",
       "    }\n",
       "</style>\n",
       "<table border=\"1\" class=\"dataframe\">\n",
       "  <thead>\n",
       "    <tr style=\"text-align: right;\">\n",
       "      <th></th>\n",
       "      <th>Beans_sldprt</th>\n",
       "      <th>Yield_pracr</th>\n",
       "      <th>Rev_pracr</th>\n",
       "      <th>District</th>\n",
       "      <th>HH_Sex</th>\n",
       "      <th>HHSize_16-65</th>\n",
       "      <th>Farmer_orgs</th>\n",
       "      <th>FarmSize_Own</th>\n",
       "      <th>Land_owned</th>\n",
       "      <th>Land_farmed</th>\n",
       "      <th>...</th>\n",
       "      <th>Times_beans_sold</th>\n",
       "      <th>Rev_ReInv_Farm</th>\n",
       "      <th>Agric_Inputs_rec</th>\n",
       "      <th>Ag_Credit_rec</th>\n",
       "      <th>Ask_Advice</th>\n",
       "      <th>AgExW_Contact</th>\n",
       "      <th>Agric_PrSrceInc</th>\n",
       "      <th>MultipleIncSrce</th>\n",
       "      <th>Cluster</th>\n",
       "      <th>Profile</th>\n",
       "    </tr>\n",
       "    <tr>\n",
       "      <th>HH_Id</th>\n",
       "      <th></th>\n",
       "      <th></th>\n",
       "      <th></th>\n",
       "      <th></th>\n",
       "      <th></th>\n",
       "      <th></th>\n",
       "      <th></th>\n",
       "      <th></th>\n",
       "      <th></th>\n",
       "      <th></th>\n",
       "      <th></th>\n",
       "      <th></th>\n",
       "      <th></th>\n",
       "      <th></th>\n",
       "      <th></th>\n",
       "      <th></th>\n",
       "      <th></th>\n",
       "      <th></th>\n",
       "      <th></th>\n",
       "      <th></th>\n",
       "      <th></th>\n",
       "    </tr>\n",
       "  </thead>\n",
       "  <tbody>\n",
       "    <tr>\n",
       "      <th>1406</th>\n",
       "      <td>0.666667</td>\n",
       "      <td>100.000000</td>\n",
       "      <td>33333.333333</td>\n",
       "      <td>1</td>\n",
       "      <td>M</td>\n",
       "      <td>2.0</td>\n",
       "      <td>No</td>\n",
       "      <td>1.500</td>\n",
       "      <td>6.0</td>\n",
       "      <td>1.5</td>\n",
       "      <td>...</td>\n",
       "      <td>1.0</td>\n",
       "      <td>No</td>\n",
       "      <td>Yes</td>\n",
       "      <td>No</td>\n",
       "      <td>Yes</td>\n",
       "      <td>Yes</td>\n",
       "      <td>Yes</td>\n",
       "      <td>Yes</td>\n",
       "      <td>1</td>\n",
       "      <td>Top Tier</td>\n",
       "    </tr>\n",
       "    <tr>\n",
       "      <th>306</th>\n",
       "      <td>0.166667</td>\n",
       "      <td>4.000000</td>\n",
       "      <td>333.333333</td>\n",
       "      <td>2</td>\n",
       "      <td>M</td>\n",
       "      <td>4.0</td>\n",
       "      <td>Yes</td>\n",
       "      <td>15.000</td>\n",
       "      <td>25.0</td>\n",
       "      <td>15.0</td>\n",
       "      <td>...</td>\n",
       "      <td>1.0</td>\n",
       "      <td>No</td>\n",
       "      <td>Yes</td>\n",
       "      <td>Yes</td>\n",
       "      <td>Yes</td>\n",
       "      <td>Yes</td>\n",
       "      <td>Yes</td>\n",
       "      <td>Yes</td>\n",
       "      <td>0</td>\n",
       "      <td>Lower Tier</td>\n",
       "    </tr>\n",
       "    <tr>\n",
       "      <th>201</th>\n",
       "      <td>0.000000</td>\n",
       "      <td>2.000000</td>\n",
       "      <td>0.000000</td>\n",
       "      <td>2</td>\n",
       "      <td>F</td>\n",
       "      <td>3.0</td>\n",
       "      <td>Yes</td>\n",
       "      <td>5.000</td>\n",
       "      <td>10.0</td>\n",
       "      <td>5.0</td>\n",
       "      <td>...</td>\n",
       "      <td>0.0</td>\n",
       "      <td>NaN</td>\n",
       "      <td>Yes</td>\n",
       "      <td>No</td>\n",
       "      <td>Yes</td>\n",
       "      <td>Yes</td>\n",
       "      <td>Yes</td>\n",
       "      <td>Yes</td>\n",
       "      <td>0</td>\n",
       "      <td>Lower Tier</td>\n",
       "    </tr>\n",
       "    <tr>\n",
       "      <th>303</th>\n",
       "      <td>0.692308</td>\n",
       "      <td>43.333333</td>\n",
       "      <td>15000.000000</td>\n",
       "      <td>2</td>\n",
       "      <td>M</td>\n",
       "      <td>2.0</td>\n",
       "      <td>No</td>\n",
       "      <td>0.375</td>\n",
       "      <td>2.0</td>\n",
       "      <td>1.5</td>\n",
       "      <td>...</td>\n",
       "      <td>2.0</td>\n",
       "      <td>No</td>\n",
       "      <td>No</td>\n",
       "      <td>No</td>\n",
       "      <td>Yes</td>\n",
       "      <td>Yes</td>\n",
       "      <td>Yes</td>\n",
       "      <td>No</td>\n",
       "      <td>1</td>\n",
       "      <td>Top Tier</td>\n",
       "    </tr>\n",
       "    <tr>\n",
       "      <th>203</th>\n",
       "      <td>0.571429</td>\n",
       "      <td>21.875000</td>\n",
       "      <td>0.000000</td>\n",
       "      <td>2</td>\n",
       "      <td>M</td>\n",
       "      <td>2.0</td>\n",
       "      <td>Yes</td>\n",
       "      <td>8.000</td>\n",
       "      <td>15.0</td>\n",
       "      <td>8.0</td>\n",
       "      <td>...</td>\n",
       "      <td>0.0</td>\n",
       "      <td>NaN</td>\n",
       "      <td>Yes</td>\n",
       "      <td>No</td>\n",
       "      <td>Yes</td>\n",
       "      <td>Yes</td>\n",
       "      <td>Yes</td>\n",
       "      <td>No</td>\n",
       "      <td>0</td>\n",
       "      <td>Lower Tier</td>\n",
       "    </tr>\n",
       "  </tbody>\n",
       "</table>\n",
       "<p>5 rows × 27 columns</p>\n",
       "</div>"
      ],
      "text/plain": [
       "       Beans_sldprt  Yield_pracr     Rev_pracr  District HH_Sex  HHSize_16-65  \\\n",
       "HH_Id                                                                           \n",
       "1406       0.666667   100.000000  33333.333333         1      M           2.0   \n",
       "306        0.166667     4.000000    333.333333         2      M           4.0   \n",
       "201        0.000000     2.000000      0.000000         2      F           3.0   \n",
       "303        0.692308    43.333333  15000.000000         2      M           2.0   \n",
       "203        0.571429    21.875000      0.000000         2      M           2.0   \n",
       "\n",
       "      Farmer_orgs  FarmSize_Own  Land_owned  Land_farmed  ...  \\\n",
       "HH_Id                                                     ...   \n",
       "1406           No         1.500         6.0          1.5  ...   \n",
       "306           Yes        15.000        25.0         15.0  ...   \n",
       "201           Yes         5.000        10.0          5.0  ...   \n",
       "303            No         0.375         2.0          1.5  ...   \n",
       "203           Yes         8.000        15.0          8.0  ...   \n",
       "\n",
       "       Times_beans_sold  Rev_ReInv_Farm  Agric_Inputs_rec  Ag_Credit_rec  \\\n",
       "HH_Id                                                                      \n",
       "1406                1.0              No               Yes             No   \n",
       "306                 1.0              No               Yes            Yes   \n",
       "201                 0.0             NaN               Yes             No   \n",
       "303                 2.0              No                No             No   \n",
       "203                 0.0             NaN               Yes             No   \n",
       "\n",
       "       Ask_Advice  AgExW_Contact Agric_PrSrceInc  MultipleIncSrce Cluster  \\\n",
       "HH_Id                                                                       \n",
       "1406          Yes            Yes             Yes              Yes       1   \n",
       "306           Yes            Yes             Yes              Yes       0   \n",
       "201           Yes            Yes             Yes              Yes       0   \n",
       "303           Yes            Yes             Yes               No       1   \n",
       "203           Yes            Yes             Yes               No       0   \n",
       "\n",
       "          Profile  \n",
       "HH_Id              \n",
       "1406     Top Tier  \n",
       "306    Lower Tier  \n",
       "201    Lower Tier  \n",
       "303      Top Tier  \n",
       "203    Lower Tier  \n",
       "\n",
       "[5 rows x 27 columns]"
      ]
     },
     "execution_count": 88,
     "metadata": {},
     "output_type": "execute_result"
    }
   ],
   "source": [
    "df.head()"
   ]
  },
  {
   "cell_type": "code",
   "execution_count": 89,
   "metadata": {},
   "outputs": [
    {
     "data": {
      "text/plain": [
       "Lower Tier     247\n",
       "Top Tier       103\n",
       "Middle Tier     26\n",
       "Name: Profile, dtype: int64"
      ]
     },
     "execution_count": 89,
     "metadata": {},
     "output_type": "execute_result"
    }
   ],
   "source": [
    "df[\"Profile\"].value_counts()"
   ]
  },
  {
   "cell_type": "code",
   "execution_count": 91,
   "metadata": {},
   "outputs": [
    {
     "data": {
      "text/plain": [
       "<seaborn.axisgrid.FacetGrid at 0x1a12e50>"
      ]
     },
     "execution_count": 91,
     "metadata": {},
     "output_type": "execute_result"
    },
    {
     "data": {
      "image/png": "[encoded data removed]",
      "text/plain": [
       "<Figure size 451.25x360 with 1 Axes>"
      ]
     },
     "metadata": {
      "needs_background": "light"
     },
     "output_type": "display_data"
    }
   ],
   "source": [
    "sns.lmplot(x='Yield_pracr', y='Rev_pracr', hue='Profile', fit_reg=False, data=df)"
   ]
  },
  {
   "cell_type": "code",
   "execution_count": 92,
   "metadata": {},
   "outputs": [
    {
     "data": {
      "text/plain": [
       "<seaborn.axisgrid.FacetGrid at 0xce4430>"
      ]
     },
     "execution_count": 92,
     "metadata": {},
     "output_type": "execute_result"
    },
    {
     "data": {
      "image/png": "[encoded data removed]",
      "text/plain": [
       "<Figure size 451.25x360 with 1 Axes>"
      ]
     },
     "metadata": {
      "needs_background": "light"
     },
     "output_type": "display_data"
    }
   ],
   "source": [
    "sns.lmplot(x='Beans_sldprt', y='Rev_pracr', hue='Profile', fit_reg=False, data=df)"
   ]
  },
  {
   "cell_type": "code",
   "execution_count": null,
   "metadata": {},
   "outputs": [],
   "source": []
  }
 ],
 "metadata": {
  "kernelspec": {
   "display_name": "Python 3",
   "language": "python",
   "name": "python3"
  },
  "language_info": {
   "codemirror_mode": {
    "name": "ipython",
    "version": 3
   },
   "file_extension": ".py",
   "mimetype": "text/x-python",
   "name": "python",
   "nbconvert_exporter": "python",
   "pygments_lexer": "ipython3",
   "version": "3.8.5"
  }
 },
 "nbformat": 4,
 "nbformat_minor": 4
}
